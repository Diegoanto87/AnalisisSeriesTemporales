{
 "cells": [
  {
   "cell_type": "markdown",
   "metadata": {},
   "source": [
    "<center><h1>Time series analysis</h1></center>\n",
    "<center><h2>Tutorial 14: Seasonal ARIMA</h2></center>\n",
    "<br>\n",
    "\n",
    "This notebook brings all the forecasting material together in a case study. Our objective is to forecast the monthly ridership in Sydney trains based on data provided by the [NSW Bureau of Transport Statistics](https://opendata.transport.nsw.gov.au/search/type/dataset). This is a fundamental policy issue for the city as population growth puts [increasing pressure](http://www.smh.com.au/nsw/revealed-new-metro-between-sydney-cbd-and-parramatta-20160831-gr5d6m.html) on public transport, with some rail lines being notorious for overcrowding. \n",
    "\n",
    "##### Content:\n",
    "\n",
    "<a class=\"buttom\" href=\"#>Data:-Sydney-monthly-train-journeys\">Data: Sydney monthly train journeys</a><br>\n",
    "<a class=\"buttom\" href=\"#Exploratory-data-analysis\">Exploratory data analysis</a> <br>\n",
    "<a class=\"buttom\" href=\"#ARIMA\">ARIMA</a><br>\n",
    "<a class=\"buttom\" href=\"#Identification\" style=\"margin-left: 10px\">(a) Identification</a><br>\n",
    "<a class=\"buttom\" href=\"#Automatic-selection\" style=\"margin-left: 10px\">(b) Automatic selection</a><br>\n",
    "<a class=\"buttom\" href=\"#Estimation\" style=\"margin-left: 10px\">(c) Estimation</a><br>\n",
    "<a class=\"buttom\" href=\"#Diagnostics\" style=\"margin-left: 10px\">(d) Diagnostics</a><br>\n",
    "<a class=\"buttom\" href=\"#Exponential-smoothing\">Exponential smoothing</a><br>\n",
    "<a class=\"buttom\" href=\"#Model-validation\">Model validation</a><br>\n",
    "<a class=\"buttom\" href=\"#Forecast\">Forecast</a><br>\n",
    "\n",
    "Based in the work of Marcel Scharth http://www.marcelscharth.com/\n",
    "\n",
    "This notebook assumes the following packages and settings."
   ]
  },
  {
   "cell_type": "code",
   "execution_count": 1,
   "metadata": {},
   "outputs": [],
   "source": [
    "# Packages\n",
    "import warnings\n",
    "warnings.filterwarnings(\"ignore\")\n",
    "import numpy as np\n",
    "import pandas as pd\n",
    "import matplotlib.pyplot as plt\n",
    "import seaborn as sns\n",
    "import statsmodels.api as sm"
   ]
  },
  {
   "cell_type": "code",
   "execution_count": 2,
   "metadata": {},
   "outputs": [],
   "source": [
    "# Plot settings\n",
    "sns.set_context('notebook') \n",
    "sns.set_style('ticks')\n",
    "red='#D62728'\n",
    "blue='#1F77B4'\n",
    "%matplotlib inline"
   ]
  },
  {
   "cell_type": "code",
   "execution_count": 3,
   "metadata": {},
   "outputs": [],
   "source": [
    "# Predefined plots\n",
    "\n",
    "# Time series plot\n",
    "def ts_plot(y, color=red):\n",
    "    fig, ax= plt.subplots(figsize=(9,6))\n",
    "    y.plot(color=color, ax=ax)\n",
    "    ax.set_xlabel('')\n",
    "    ax.set_xticks([], minor=True)\n",
    "    sns.despine()\n",
    "    return fig, ax\n",
    "\n",
    "# ACF and PACF plots\n",
    "def acf_pacf_plot(y):\n",
    "    fig, ax = plt.subplots(1,2, figsize=(12,5))\n",
    "    sm.graphics.tsa.plot_acf(y, lags=40, ax=ax[0])\n",
    "    sm.graphics.tsa.plot_pacf(y, lags=40, ax=ax[1])\n",
    "    sns.despine()\n",
    "    fig.tight_layout()\n",
    "    return fig, ax\n",
    "\n",
    "#Histogram\n",
    "def hist(y):\n",
    "    fig, ax= plt.subplots(figsize=(8,5))\n",
    "    sns.distplot(y, ax=ax, hist_kws={'alpha': 0.8, 'edgecolor':'black', 'color': blue},  \n",
    "                 kde_kws={'color': 'black', 'alpha': 0.7})\n",
    "    sns.despine()\n",
    "    return fig, ax"
   ]
  },
  {
   "cell_type": "markdown",
   "metadata": {},
   "source": [
    "##Data: Sydney  monthly train journeys"
   ]
  },
  {
   "cell_type": "code",
   "execution_count": 9,
   "metadata": {},
   "outputs": [
    {
     "data": {
      "text/html": [
       "<div>\n",
       "<style scoped>\n",
       "    .dataframe tbody tr th:only-of-type {\n",
       "        vertical-align: middle;\n",
       "    }\n",
       "\n",
       "    .dataframe tbody tr th {\n",
       "        vertical-align: top;\n",
       "    }\n",
       "\n",
       "    .dataframe thead th {\n",
       "        text-align: right;\n",
       "    }\n",
       "</style>\n",
       "<table border=\"1\" class=\"dataframe\">\n",
       "  <thead>\n",
       "    <tr style=\"text-align: right;\">\n",
       "      <th></th>\n",
       "      <th>Journeys</th>\n",
       "    </tr>\n",
       "    <tr>\n",
       "      <th>Month</th>\n",
       "      <th></th>\n",
       "    </tr>\n",
       "  </thead>\n",
       "  <tbody>\n",
       "    <tr>\n",
       "      <th>2018-06</th>\n",
       "      <td>32604345</td>\n",
       "    </tr>\n",
       "    <tr>\n",
       "      <th>2018-07</th>\n",
       "      <td>33053594</td>\n",
       "    </tr>\n",
       "    <tr>\n",
       "      <th>2018-08</th>\n",
       "      <td>35713800</td>\n",
       "    </tr>\n",
       "    <tr>\n",
       "      <th>2018-09</th>\n",
       "      <td>33021482</td>\n",
       "    </tr>\n",
       "    <tr>\n",
       "      <th>2018-10</th>\n",
       "      <td>34487367</td>\n",
       "    </tr>\n",
       "  </tbody>\n",
       "</table>\n",
       "</div>"
      ],
      "text/plain": [
       "         Journeys\n",
       "Month            \n",
       "2018-06  32604345\n",
       "2018-07  33053594\n",
       "2018-08  35713800\n",
       "2018-09  33021482\n",
       "2018-10  34487367"
      ]
     },
     "execution_count": 9,
     "metadata": {},
     "output_type": "execute_result"
    }
   ],
   "source": [
    "data=pd.read_csv('datasets/journeys.csv', index_col='Month', parse_dates=True, dayfirst=True)\n",
    "data.index=data.index.to_period()\n",
    "y=data['Journeys']\n",
    "data.tail()"
   ]
  },
  {
   "cell_type": "markdown",
   "metadata": {},
   "source": [
    "We rescale the series to be in millions of rides, to facilitate the intepretation and avoid possible numerical problems."
   ]
  },
  {
   "cell_type": "code",
   "execution_count": 10,
   "metadata": {},
   "outputs": [],
   "source": [
    "y=y/(10**6)"
   ]
  },
  {
   "cell_type": "markdown",
   "metadata": {},
   "source": [
    "As a general rule, you should avoid working with large numbers since they lead to less precise numerical calculations and an accumulation of numerical precision errors. The next cell illustrates this problem. "
   ]
  },
  {
   "cell_type": "code",
   "execution_count": 11,
   "metadata": {},
   "outputs": [
    {
     "name": "stdout",
     "output_type": "stream",
     "text": [
      "1.0000020265579224\n",
      "1.0000000000000007\n"
     ]
    }
   ],
   "source": [
    "x=10**8\n",
    "for i in range(1000):\n",
    "    x+=0.001\n",
    "print(x-10**8)\n",
    "\n",
    "x=0\n",
    "for i in range(1000):\n",
    "    x+=0.001\n",
    "print(x)"
   ]
  },
  {
   "cell_type": "markdown",
   "metadata": {},
   "source": [
    "##Exploratory Data Analysis\n",
    "\n",
    "The next figure shows the time series. "
   ]
  },
  {
   "cell_type": "code",
   "execution_count": 12,
   "metadata": {},
   "outputs": [
    {
     "data": {
      "image/png": "[encoded data removed]",
      "text/plain": [
       "<Figure size 648x432 with 1 Axes>"
      ]
     },
     "metadata": {
      "needs_background": "light"
     },
     "output_type": "display_data"
    }
   ],
   "source": [
    "fig, ax= ts_plot(y)\n",
    "ax.set_ylabel('Journeys')\n",
    "ax.set_title('Monthly journeys in Sydney trains (in millions of rides)', fontsize=13)\n",
    "plt.show()"
   ]
  },
  {
   "cell_type": "markdown",
   "metadata": {},
   "source": [
    "We conduct a X13-ARIMA-SEATS decomposition for the data.  The results show that the number of journeys on Sydney trains had a slightly negative trend until 2006, but has increased steadily with a roughly linear trend since then: the number of users grew by 22% in the last ten years of the data. The series has a clear seasonal pattern that seems to be slightly growing in size with the trend. "
   ]
  },
  {
   "cell_type": "code",
   "execution_count": 17,
   "metadata": {},
   "outputs": [
    {
     "ename": "X13Error",
     "evalue": "ERROR: Series to be modelled and/or seasonally adjusted must have at\n        least 3 complete years of data.\n  \n  No seasonal adjustment this run",
     "output_type": "error",
     "traceback": [
      "\u001b[0;31m---------------------------------------------------------------------------\u001b[0m",
      "\u001b[0;31mX13Error\u001b[0m                                  Traceback (most recent call last)",
      "\u001b[0;32m<ipython-input-17-d700cc2091b9>\u001b[0m in \u001b[0;36m<module>\u001b[0;34m()\u001b[0m\n\u001b[1;32m      1\u001b[0m \u001b[0mts\u001b[0m\u001b[0;34m=\u001b[0m\u001b[0my\u001b[0m\u001b[0;34m.\u001b[0m\u001b[0mcopy\u001b[0m\u001b[0;34m(\u001b[0m\u001b[0;34m)\u001b[0m\u001b[0;34m\u001b[0m\u001b[0m\n\u001b[1;32m      2\u001b[0m \u001b[0mts\u001b[0m\u001b[0;34m.\u001b[0m\u001b[0mindex\u001b[0m\u001b[0;34m=\u001b[0m\u001b[0mpd\u001b[0m\u001b[0;34m.\u001b[0m\u001b[0mto_datetime\u001b[0m\u001b[0;34m(\u001b[0m\u001b[0mts\u001b[0m\u001b[0;34m.\u001b[0m\u001b[0mindex\u001b[0m\u001b[0;34m.\u001b[0m\u001b[0mto_timestamp\u001b[0m\u001b[0;34m(\u001b[0m\u001b[0;34m)\u001b[0m\u001b[0;34m)\u001b[0m \u001b[0;31m# remember that the decomposition functions only work with datetime\u001b[0m\u001b[0;34m\u001b[0m\u001b[0m\n\u001b[0;32m----> 3\u001b[0;31m \u001b[0mdecomposition\u001b[0m\u001b[0;34m=\u001b[0m\u001b[0msm\u001b[0m\u001b[0;34m.\u001b[0m\u001b[0mtsa\u001b[0m\u001b[0;34m.\u001b[0m\u001b[0mx13_arima_analysis\u001b[0m\u001b[0;34m(\u001b[0m\u001b[0mts\u001b[0m\u001b[0;34m,\u001b[0m\u001b[0mx12path\u001b[0m\u001b[0;34m=\u001b[0m\u001b[0;34m'.'\u001b[0m\u001b[0;34m)\u001b[0m\u001b[0;34m\u001b[0m\u001b[0m\n\u001b[0m\u001b[1;32m      4\u001b[0m \u001b[0mseasonal\u001b[0m\u001b[0;34m=\u001b[0m\u001b[0mdecomposition\u001b[0m\u001b[0;34m.\u001b[0m\u001b[0mobserved\u001b[0m\u001b[0;34m/\u001b[0m\u001b[0mdecomposition\u001b[0m\u001b[0;34m.\u001b[0m\u001b[0mseasadj\u001b[0m\u001b[0;34m\u001b[0m\u001b[0m\n\u001b[1;32m      5\u001b[0m \u001b[0;34m\u001b[0m\u001b[0m\n",
      "\u001b[0;32m/opt/anaconda/3/lib/python3.6/site-packages/statsmodels/tsa/x13.py\u001b[0m in \u001b[0;36mx13_arima_analysis\u001b[0;34m(endog, maxorder, maxdiff, diff, exog, log, outlier, trading, forecast_years, retspec, speconly, start, freq, print_stdout, x12path, prefer_x13)\u001b[0m\n\u001b[1;32m    443\u001b[0m         \u001b[0;31m# check for errors\u001b[0m\u001b[0;34m\u001b[0m\u001b[0;34m\u001b[0m\u001b[0m\n\u001b[1;32m    444\u001b[0m         \u001b[0merrors\u001b[0m \u001b[0;34m=\u001b[0m \u001b[0m_open_and_read\u001b[0m\u001b[0;34m(\u001b[0m\u001b[0mftempout\u001b[0m\u001b[0;34m.\u001b[0m\u001b[0mname\u001b[0m \u001b[0;34m+\u001b[0m \u001b[0;34m'.err'\u001b[0m\u001b[0;34m)\u001b[0m\u001b[0;34m\u001b[0m\u001b[0m\n\u001b[0;32m--> 445\u001b[0;31m         \u001b[0m_check_errors\u001b[0m\u001b[0;34m(\u001b[0m\u001b[0merrors\u001b[0m\u001b[0;34m)\u001b[0m\u001b[0;34m\u001b[0m\u001b[0m\n\u001b[0m\u001b[1;32m    446\u001b[0m \u001b[0;34m\u001b[0m\u001b[0m\n\u001b[1;32m    447\u001b[0m         \u001b[0;31m# read in results\u001b[0m\u001b[0;34m\u001b[0m\u001b[0;34m\u001b[0m\u001b[0m\n",
      "\u001b[0;32m/opt/anaconda/3/lib/python3.6/site-packages/statsmodels/tsa/x13.py\u001b[0m in \u001b[0;36m_check_errors\u001b[0;34m(errors)\u001b[0m\n\u001b[1;32m    178\u001b[0m     \u001b[0merrors\u001b[0m \u001b[0;34m=\u001b[0m \u001b[0merrors\u001b[0m\u001b[0;34m[\u001b[0m\u001b[0merrors\u001b[0m\u001b[0;34m.\u001b[0m\u001b[0mfind\u001b[0m\u001b[0;34m(\u001b[0m\u001b[0;34m\"spc:\"\u001b[0m\u001b[0;34m)\u001b[0m\u001b[0;34m+\u001b[0m\u001b[0;36m4\u001b[0m\u001b[0;34m:\u001b[0m\u001b[0;34m]\u001b[0m\u001b[0;34m.\u001b[0m\u001b[0mstrip\u001b[0m\u001b[0;34m(\u001b[0m\u001b[0;34m)\u001b[0m\u001b[0;34m\u001b[0m\u001b[0m\n\u001b[1;32m    179\u001b[0m     \u001b[0;32mif\u001b[0m \u001b[0merrors\u001b[0m \u001b[0;32mand\u001b[0m \u001b[0;34m'ERROR'\u001b[0m \u001b[0;32min\u001b[0m \u001b[0merrors\u001b[0m\u001b[0;34m:\u001b[0m\u001b[0;34m\u001b[0m\u001b[0m\n\u001b[0;32m--> 180\u001b[0;31m         \u001b[0;32mraise\u001b[0m \u001b[0mX13Error\u001b[0m\u001b[0;34m(\u001b[0m\u001b[0merrors\u001b[0m\u001b[0;34m)\u001b[0m\u001b[0;34m\u001b[0m\u001b[0m\n\u001b[0m\u001b[1;32m    181\u001b[0m     \u001b[0;32melif\u001b[0m \u001b[0merrors\u001b[0m \u001b[0;32mand\u001b[0m \u001b[0;34m'WARNING'\u001b[0m \u001b[0;32min\u001b[0m \u001b[0merrors\u001b[0m\u001b[0;34m:\u001b[0m\u001b[0;34m\u001b[0m\u001b[0m\n\u001b[1;32m    182\u001b[0m         \u001b[0mwarn\u001b[0m\u001b[0;34m(\u001b[0m\u001b[0merrors\u001b[0m\u001b[0;34m,\u001b[0m \u001b[0mX13Warning\u001b[0m\u001b[0;34m)\u001b[0m\u001b[0;34m\u001b[0m\u001b[0m\n",
      "\u001b[0;31mX13Error\u001b[0m: ERROR: Series to be modelled and/or seasonally adjusted must have at\n        least 3 complete years of data.\n  \n  No seasonal adjustment this run"
     ]
    }
   ],
   "source": [
    "ts=y.copy()\n",
    "ts.index=pd.to_datetime(ts.index.to_timestamp()) # remember that the decomposition functions only work with datetime\n",
    "decomposition=sm.tsa.x13_arima_analysis(ts,x12path='.')\n",
    "seasonal=decomposition.observed/decomposition.seasadj\n",
    "\n",
    "\n",
    "\n",
    "from forecast import plot_components_x13\n",
    "plot_components_x13(decomposition)\n",
    "plt.show() "
   ]
  },
  {
   "cell_type": "markdown",
   "metadata": {},
   "source": [
    "To better understand the seasonal pattern, the next cell draws a seasonal plot. The number of journeys peaks in March, May and August, and is lowest during the summer months. "
   ]
  },
  {
   "cell_type": "code",
   "execution_count": null,
   "metadata": {},
   "outputs": [],
   "source": [
    "months=['Jan', 'Feb', 'Mar', 'Apr', 'May', 'Jun', 'Jul', 'Aug', 'Sep', 'Oct', 'Nov', 'Dec']\n",
    "\n",
    "fig, ax = plt.subplots(figsize=(8,5))\n",
    "ax.plot(seasonal.groupby(seasonal.index.month).mean(), color=red, marker='.', markersize=15)\n",
    "ax.set_xlim(0.5,12.5)\n",
    "ax.set_xticks(np.arange(1,13))\n",
    "ax.set_xticklabels(months, rotation='-90')\n",
    "ax.set_ylabel('Seasonal index')\n",
    "ax.set_title('Seasonal plot', fontsize=13)\n",
    "sns.despine()\n",
    "plt.show()"
   ]
  },
  {
   "cell_type": "markdown",
   "metadata": {},
   "source": [
    "It is useful to save the help X13-ARIMA output for reference. "
   ]
  },
  {
   "cell_type": "code",
   "execution_count": null,
   "metadata": {},
   "outputs": [],
   "source": [
    "f=open('x13results.txt', mode='w+')\n",
    "f.write(decomposition.results)\n",
    "f.close()"
   ]
  },
  {
   "cell_type": "markdown",
   "metadata": {},
   "source": [
    "##ARIMA\n",
    "\n"
   ]
  },
  {
   "cell_type": "markdown",
   "metadata": {},
   "source": [
    "###Identification\n",
    "\n",
    "To identify an appropriate ARIMA specification for the series, we start by creating a data frame to store the first differenced, seasonally differenced, and first and seasonally differenced series."
   ]
  },
  {
   "cell_type": "code",
   "execution_count": null,
   "metadata": {},
   "outputs": [],
   "source": [
    "df=pd.DataFrame(y.copy())\n",
    "df.columns.values[0]='original'\n",
    "df['first_diff']=y-y.shift(1)\n",
    "df['seasonal_diff']=y-y.shift(12)\n",
    "df['diff']=df['first_diff']-df['first_diff'].shift(12)\n",
    "df=df.dropna()\n",
    "df.tail().round(3)"
   ]
  },
  {
   "cell_type": "markdown",
   "metadata": {},
   "source": [
    "Taking the first difference reveals a slow decay in ACF at the seasonal lags, suggesting the need for seasonal difference to  stationarity. "
   ]
  },
  {
   "cell_type": "code",
   "execution_count": null,
   "metadata": {},
   "outputs": [],
   "source": [
    "ts_plot(df['first_diff'])\n",
    "plt.title('First difference')\n",
    "plt.show()"
   ]
  },
  {
   "cell_type": "code",
   "execution_count": null,
   "metadata": {},
   "outputs": [],
   "source": [
    "acf_pacf_plot(df['first_diff'])\n",
    "plt.show()"
   ]
  },
  {
   "cell_type": "markdown",
   "metadata": {},
   "source": [
    "Taking only the seasonal difference leads to a still clearly nonstationary series, confirming the need for both transformations. "
   ]
  },
  {
   "cell_type": "code",
   "execution_count": null,
   "metadata": {},
   "outputs": [],
   "source": [
    "ts_plot(df['seasonal_diff'])\n",
    "plt.title('Seasonal difference')\n",
    "plt.show()"
   ]
  },
  {
   "cell_type": "code",
   "execution_count": null,
   "metadata": {},
   "outputs": [],
   "source": [
    "acf_pacf_plot(df['seasonal_diff'])\n",
    "plt.show()"
   ]
  },
  {
   "cell_type": "markdown",
   "metadata": {},
   "source": [
    "The next figure shows the first and seasonally differenced series, followed by the ACF and PACF plots. The ACF and PACF plots suggest the an AR(2) model: since the autocorrelations decrease gradually, while the partial autocorrelations display a clear cut-off after lag 2. "
   ]
  },
  {
   "cell_type": "code",
   "execution_count": null,
   "metadata": {},
   "outputs": [],
   "source": [
    "ts_plot(df['diff']) # first and seasonal difference\n",
    "plt.title('First and seasonal difference')\n",
    "plt.show()"
   ]
  },
  {
   "cell_type": "code",
   "execution_count": null,
   "metadata": {},
   "outputs": [],
   "source": [
    "acf_pacf_plot(df['diff'])\n",
    "plt.show()"
   ]
  },
  {
   "cell_type": "markdown",
   "metadata": {},
   "source": [
    "No seasonal AR or MA pattern is easily discernible from the ACF and PACFs plots above. Hence, I fit an AR(2) to model to the first and seasonally differenced series and examine the residuals for the remaining autocorrelations. The ACF and PACF plots for the residulal series seem to be consistent with a seasonal MA(1) model, due to a significant autocorrelation at lag 12 and significant partial autocorrelations at lags 12 and 24.  "
   ]
  },
  {
   "cell_type": "code",
   "execution_count": null,
   "metadata": {},
   "outputs": [],
   "source": [
    "arima = sm.tsa.ARIMA(df['diff'], order=(2, 0, 0)).fit()\n",
    "acf_pacf_plot(arima.resid)\n",
    "plt.show()"
   ]
  },
  {
   "cell_type": "markdown",
   "metadata": {},
   "source": [
    "###Automatic selection\n",
    "\n",
    "We can also conduct automatic ARIMA order selection based on the X13 ARIMA decomposition software, which is in turn based on the AIC. The automatic selection procedure confirms our choice based on the analysis of the ACF and PACF plots. In practice, it is important to use both the visual and automatic approaches and compare the results. "
   ]
  },
  {
   "cell_type": "code",
   "execution_count": null,
   "metadata": {},
   "outputs": [],
   "source": [
    "results=sm.tsa.x13_arima_select_order(y)\n",
    "print(results.order) # non-seasonal part\n",
    "print(results.sorder) # seasonal part"
   ]
  },
  {
   "cell_type": "markdown",
   "metadata": {},
   "source": [
    "##Estimation"
   ]
  },
  {
   "cell_type": "code",
   "execution_count": null,
   "metadata": {},
   "outputs": [],
   "source": [
    "sarima=sm.tsa.statespace.SARIMAX(y,  order=(2, 1, 0), seasonal_order=(0, 1, 1, 12)).fit()\n",
    "print(sarima.summary())"
   ]
  },
  {
   "cell_type": "markdown",
   "metadata": {},
   "source": [
    "###Diagnostics\n"
   ]
  },
  {
   "cell_type": "code",
   "execution_count": null,
   "metadata": {},
   "outputs": [],
   "source": [
    "resid=sarima.resid[13:] # the first 13 residuals are inialisation ones"
   ]
  },
  {
   "cell_type": "markdown",
   "metadata": {},
   "source": [
    "Below are the residual plot, ACF and PACF for the ARIMA(2,1,0)(0,1,1) model. Therea are no apparent patterns in these plots, so that model seems to adequately capture time series dependence in the date."
   ]
  },
  {
   "cell_type": "code",
   "execution_count": null,
   "metadata": {},
   "outputs": [],
   "source": [
    "ts_plot(resid, color=blue)\n",
    "plt.title('Residual plot')\n",
    "plt.show()"
   ]
  },
  {
   "cell_type": "code",
   "execution_count": null,
   "metadata": {},
   "outputs": [],
   "source": [
    "acf_pacf_plot(resid)\n",
    "plt.show()"
   ]
  },
  {
   "cell_type": "markdown",
   "metadata": {},
   "source": [
    "The histogram of the residuals is consistent with a normal or near normal distribution."
   ]
  },
  {
   "cell_type": "code",
   "execution_count": null,
   "metadata": {},
   "outputs": [],
   "source": [
    "hist(resid)\n",
    "plt.show()"
   ]
  },
  {
   "cell_type": "markdown",
   "metadata": {},
   "source": [
    "This part of the model output gives further information. The distribution of the residuals is approximately symmetric and displays near Gaussian sample kurtosis, such that we do not reject the null hypothesis of normality. "
   ]
  },
  {
   "cell_type": "code",
   "execution_count": null,
   "metadata": {},
   "outputs": [],
   "source": [
    "sarima.summary().tables[2]"
   ]
  },
  {
   "cell_type": "markdown",
   "metadata": {},
   "source": [
    "The output also shows hypothesis tests for no serial correlation and constant variance (both of which we do not reject). "
   ]
  },
  {
   "cell_type": "markdown",
   "metadata": {
    "collapsed": true
   },
   "source": [
    "##Exponential Smoothing\n",
    "\n",
    "###Estimation\n",
    "\n",
    "I estimate several Holt-Winters specifications, allowing for additive or multiplicative seasonality, a damped trend, and a log transformation. When modelling the level of the series,  the model selection criteria and the overall fit suggest that a multiplicative model without damping is the preferred specification for the data. Later, we will use a validation set to select between the multiplicative and log-additive models. "
   ]
  },
  {
   "cell_type": "code",
   "execution_count": null,
   "metadata": {},
   "outputs": [],
   "source": [
    "import forecast\n",
    "\n",
    "ahw=forecast.holtwinters(y, additive=True, damped=False, m=12)\n",
    "ahw.fit()\n",
    "ahw.summary()"
   ]
  },
  {
   "cell_type": "code",
   "execution_count": null,
   "metadata": {},
   "outputs": [],
   "source": [
    "ahwd=forecast.holtwinters(y, additive=True, damped=True, m=12)\n",
    "ahwd.fit()\n",
    "ahwd.summary()"
   ]
  },
  {
   "cell_type": "code",
   "execution_count": null,
   "metadata": {},
   "outputs": [],
   "source": [
    "mhw=forecast.holtwinters(y, additive=False, damped=False, m=12)\n",
    "mhw.fit()\n",
    "mhw.summary()"
   ]
  },
  {
   "cell_type": "code",
   "execution_count": null,
   "metadata": {},
   "outputs": [],
   "source": [
    "mhwd=forecast.holtwinters(y, additive=False, damped=True, m=12)\n",
    "mhwd.fit()\n",
    "mhwd.summary()"
   ]
  },
  {
   "cell_type": "code",
   "execution_count": null,
   "metadata": {},
   "outputs": [],
   "source": [
    "ahw_log=forecast.holtwinters(np.log(y), additive=True, damped=False, m=12)\n",
    "ahw_log.fit()\n",
    "ahw_log.summary()"
   ]
  },
  {
   "cell_type": "markdown",
   "metadata": {},
   "source": [
    "###Diagnostics\n",
    "\n",
    "The figures below show the residual plot, ACF and PACF for the multiplicative Holt-Winters model.  We find that the exponential smoothing method is not a good fit for the data due to the presence of substantial remaining autocorrelation. The autocorrelation is due to a short run behaviour that is picked up by the AR(2) part of the ARIMA model above. "
   ]
  },
  {
   "cell_type": "code",
   "execution_count": null,
   "metadata": {},
   "outputs": [],
   "source": [
    "resid=pd.Series(mhw.resid, index=y.index).iloc[13:]\n",
    "ts_plot(resid, color=blue)\n",
    "plt.title('Residual plot')\n",
    "plt.show()"
   ]
  },
  {
   "cell_type": "code",
   "execution_count": null,
   "metadata": {},
   "outputs": [],
   "source": [
    "acf_pacf_plot(resid)\n",
    "plt.show()"
   ]
  },
  {
   "cell_type": "markdown",
   "metadata": {},
   "source": [
    "##Model validation\n",
    "\n",
    "We now use real-time forecasting (2010 onwards, 63 observations), to confirm whether we should prefer the ARIMA model over the methods, and to estimate how it may perform for short and medium run forecasts. We consider forecasts one month and one year ahead. \n",
    "\n",
    "The results clearly show that the ARIMA(2,1,0)(0,1,0) model outperforms exponential smoothing for forecasting. "
   ]
  },
  {
   "cell_type": "code",
   "execution_count": null,
   "metadata": {},
   "outputs": [],
   "source": [
    "# Real time forecasting\n",
    "\n",
    "validation=y['2010':].index\n",
    "start = y.index.get_loc('2010-01')\n",
    "\n",
    "results=pd.DataFrame(0.0, index=y.iloc[start:].index, columns=['Seasonal RW','Holt-Winters', \n",
    "                                                                'Log Holt-Winters', 'Seasonal ARIMA', 'Actual'])\n",
    "results['Actual'] = y.iloc[start:]\n",
    "\n",
    "for i in range(start, len(y)):\n",
    "    \n",
    "    j=i-start\n",
    "        \n",
    "    # seasonal random walk forecast\n",
    "    results.iloc[j,0]=y.iloc[i-12]\n",
    "    \n",
    "    # multiplicative holt winters\n",
    "    model = forecast.holtwinters(y.iloc[:i] , additive=False, damped=False, m=12)\n",
    "    model.fit()\n",
    "    results.iloc[j,1]=model.forecast(1)[0]\n",
    "    \n",
    "    # log holt winters\n",
    "    model = forecast.holtwinters(np.log(y.iloc[:i]), additive=True, damped=False, m=12)\n",
    "    model.fit()\n",
    "    results.iloc[j,2]=np.exp(model.forecast(h=1)[0]+model.forecastvariance(h=1)[0]/2)\n",
    "    \n",
    "    # seasonal ARIMA\n",
    "    model = sm.tsa.statespace.SARIMAX(y.iloc[:i],  order=(2, 1, 0), seasonal_order=(0, 1, 1, 12)).fit()\n",
    "    results.iloc[j,3]=model.forecast()[0]"
   ]
  },
  {
   "cell_type": "code",
   "execution_count": null,
   "metadata": {},
   "outputs": [],
   "source": [
    "from statlearning import rmse_jack\n",
    "\n",
    "table = pd.DataFrame(0.0, index=results.columns[:-1], columns=['RMSE','SE'])\n",
    "for i in range(len(results.columns)-1):\n",
    "    table.iloc[i,0], table.iloc[i,1] = rmse_jack(results.iloc[:,i], results.iloc[:,-1])\n",
    "table.round(3)"
   ]
  },
  {
   "cell_type": "code",
   "execution_count": null,
   "metadata": {},
   "outputs": [],
   "source": [
    "# Real time forecasting  (One year ahead)\n",
    "\n",
    "validation=y['2010':].index\n",
    "start = y.index.get_loc('2010-01')\n",
    "\n",
    "results=pd.DataFrame(0.0, index=y.iloc[start:].index, columns=['Seasonal RW','Holt-Winters', \n",
    "                                                                'Log Holt-Winters', 'Seasonal ARIMA', 'Actual'])\n",
    "results['Actual'] = y.iloc[start:]\n",
    "\n",
    "for i in range(start, len(y)):\n",
    "    \n",
    "    j=i-start\n",
    "        \n",
    "    # seasonal random walk forecast\n",
    "    results.iloc[j,0]=y.iloc[i-12]\n",
    "    \n",
    "    # multiplicative holt winters\n",
    "    model = forecast.holtwinters(y.iloc[:i-12+1] , additive=False, damped=False, m=12)\n",
    "    model.fit()\n",
    "    results.iloc[j,1]=model.forecast(h=12)[-1]\n",
    "    \n",
    "    # log holt winters\n",
    "    model = forecast.holtwinters(np.log(y.iloc[:i-12+1]), additive=True, damped=False, m=12)\n",
    "    model.fit()\n",
    "    results.iloc[j,2]=np.exp(model.forecast(h=12)[-1]+model.forecastvariance(h=12)[-1]/2)\n",
    "    \n",
    "    # seasonal ARIMA\n",
    "    model = sm.tsa.statespace.SARIMAX(y.iloc[:i-12+1],  order=(2, 1, 0), seasonal_order=(0, 1, 1, 12)).fit()\n",
    "    results.iloc[j,3]=model.forecast(steps=12)[-1]\n",
    "\n",
    "# The standard error is not valid in this case because the forecast errors are correlated\n",
    "table = pd.DataFrame(0.0, index=results.columns[:-1], columns=['RMSE'])\n",
    "for i in range(len(results.columns)-1):\n",
    "    table.iloc[i,0], _ = rmse_jack(results.iloc[:,i], results.iloc[:,-1])\n",
    "table.round(3)"
   ]
  },
  {
   "cell_type": "markdown",
   "metadata": {},
   "source": [
    "##Forecast\n",
    "\n",
    "Here are the final forecasts based on the ARIMA(2,1,0)(0,1,1) model. We predict a continuing increase in the number of train rides. "
   ]
  },
  {
   "cell_type": "code",
   "execution_count": null,
   "metadata": {},
   "outputs": [],
   "source": [
    "h=24 \n",
    "\n",
    "test=pd.period_range(start=y.index[-1]+1, periods=h, freq='M')\n",
    "\n",
    "y_pred = sarima.forecast(steps=h)\n",
    "y_pred =  pd.Series(y_pred, index=test)\n",
    "\n",
    "intv1 = sarima.get_forecast(h).conf_int(alpha=0.2)\n",
    "intv2 = sarima.get_forecast(h).conf_int(alpha=0.1)\n",
    "intv3 = sarima.get_forecast(h).conf_int(alpha=0.01)\n",
    "\n",
    "intv1=pd.DataFrame(intv1, index=test)\n",
    "intv2=pd.DataFrame(intv2, index=test)\n",
    "intv3=pd.DataFrame(intv3, index=test)\n",
    "\n",
    "\n",
    "fig, ax = forecast.fanchart(y['2012':], y_pred, intv1, intv2, intv3)\n",
    "ax.set_xlabel('')\n",
    "ax.set_xticks([], minor=True)\n",
    "ax.set_ylabel('Journeys')\n",
    "ax.set_title('ARIMA(2,1,0)(0,1,1) Sydney train journeys forecast', fontsize=13)\n",
    "sns.despine()\n",
    "plt.show()"
   ]
  }
 ],
 "metadata": {
  "kernelspec": {
   "display_name": "Python [default]",
   "language": "python",
   "name": "python3"
  },
  "language_info": {
   "codemirror_mode": {
    "name": "ipython",
    "version": 3
   },
   "file_extension": ".py",
   "mimetype": "text/x-python",
   "name": "python",
   "nbconvert_exporter": "python",
   "pygments_lexer": "ipython3",
   "version": "3.6.6"
  }
 },
 "nbformat": 4,
 "nbformat_minor": 1
}
